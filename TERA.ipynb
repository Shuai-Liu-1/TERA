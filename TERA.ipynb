{
 "cells": [
  {
   "cell_type": "code",
   "execution_count": null,
   "id": "7dadeb0c",
   "metadata": {},
   "outputs": [
    {
     "ename": "",
     "evalue": "",
     "output_type": "error",
     "traceback": [
      "\u001b[1;31mFailed to start the Kernel. \n",
      "\u001b[1;31mUnable to start Kernel 'base (Python 3.12.7)' due to a timeout waiting for the ports to get used. \n",
      "\u001b[1;31mView Jupyter <a href='command:jupyter.viewOutput'>log</a> for further details."
     ]
    }
   ],
   "source": [
    "# edit reth code in tdemo2013.csv\n",
    "import pandas as pd\n",
    "\n",
    "def edit_column_in_csv(input_file, output_file, column_name):\n",
    "    \"\"\"Edit the specified column in a CSV file and save the modified file.\"\"\"\n",
    "    \n",
    "    # Read the CSV file\n",
    "    df = pd.read_csv(input_file)\n",
    "    \n",
    "    # Map values in the specified column\n",
    "    value_mapping = {\n",
    "        1: \"White\",\n",
    "        2: \"Black\",\n",
    "        3: \"Hispanic\",\n",
    "        4: \"Other\"\n",
    "    }\n",
    "    \n",
    "    # Apply the mapping to the specified column\n",
    "    df[column_name] = df[column_name].map(value_mapping).fillna(df[column_name])\n",
    "    \n",
    "    # Save the modified CSV file\n",
    "    df.to_csv(output_file, index=False)\n",
    "    print(f\"CSV file saved as {output_file}\")\n",
    "\n",
    "# Example usage\n",
    "edit_column_in_csv(\"C:/Users/liush/Downloads/data/tdemo2013.csv\", \"C:/Users/liush/Downloads/data/tdemo2013_reth.csv\", \"reth\")\n"
   ]
  },
  {
   "cell_type": "code",
   "execution_count": null,
   "id": "1f3cfa78",
   "metadata": {},
   "outputs": [
    {
     "ename": "",
     "evalue": "",
     "output_type": "error",
     "traceback": [
      "\u001b[1;31mFailed to start the Kernel. \n",
      "\u001b[1;31mUnable to start Kernel 'base (Python 3.12.7)' due to a timeout waiting for the ports to get used. \n",
      "\u001b[1;31mView Jupyter <a href='command:jupyter.viewOutput'>log</a> for further details."
     ]
    }
   ],
   "source": [
    "# edit female code in tdemo2014.csv\n",
    "\n",
    "def edit_column_values(input_file, output_file, column_name):\n",
    "    \"\"\"Edit the specified column in a CSV file, replacing 1 with 0 and 2 with 1.\"\"\"\n",
    "    \n",
    "    # Read the CSV file\n",
    "    df = pd.read_csv(input_file)\n",
    "    \n",
    "    # Replace values in the specified column\n",
    "    df[column_name] = df[column_name].replace({1: 0, 2: 1})\n",
    "    \n",
    "    # Save the modified CSV file\n",
    "    df.to_csv(output_file, index=False)\n",
    "    print(f\"CSV file saved as {output_file}\")\n",
    "\n",
    "\n",
    "edit_column_values(\"C:/Users/liush/Downloads/data/tdemo2014.csv\", \"C:/Users/liush/Downloads/data/tdemo2014_female.csv\", \"female\")\n",
    "\n",
    "\n"
   ]
  },
  {
   "cell_type": "code",
   "execution_count": null,
   "id": "b3b32f02",
   "metadata": {},
   "outputs": [
    {
     "ename": "",
     "evalue": "",
     "output_type": "error",
     "traceback": [
      "\u001b[1;31mFailed to start the Kernel. \n",
      "\u001b[1;31mUnable to start Kernel 'base (Python 3.12.7)' due to a timeout waiting for the ports to get used. \n",
      "\u001b[1;31mView Jupyter <a href='command:jupyter.viewOutput'>log</a> for further details."
     ]
    }
   ],
   "source": [
    "# edit districtname in teval2015.csv\n",
    "import pandas as pd\n",
    "\n",
    "def remove_word_from_column(input_file, output_file, column_name, word_to_remove):\n",
    "    \"\"\"Removes a specific word from a column in a CSV file and saves the modified file.\"\"\"\n",
    "    \n",
    "    # Read the CSV file\n",
    "    df = pd.read_csv(input_file)\n",
    "    \n",
    "    # Remove the specified word (case-insensitive)\n",
    "    df[column_name] = df[column_name].str.replace(word_to_remove, \"\", case=False, regex=True).str.strip()\n",
    "    \n",
    "    # Save the modified CSV file\n",
    "    df.to_csv(output_file, index=False)\n",
    "    \n",
    "    print(f\"CSV file saved as {output_file}\")\n",
    "\n",
    "\n",
    "remove_word_from_column(\"C:/Users/liush/Downloads/data/teval2015.csv\", \"C:/Users/liush/Downloads/data/teval2015_district.csv\", \"districtname\", \" district\")\n"
   ]
  },
  {
   "cell_type": "code",
   "execution_count": null,
   "id": "75bfaf79",
   "metadata": {},
   "outputs": [
    {
     "ename": "",
     "evalue": "",
     "output_type": "error",
     "traceback": [
      "\u001b[1;31mFailed to start the Kernel. \n",
      "\u001b[1;31mUnable to start Kernel 'base (Python 3.12.7)' due to a timeout waiting for the ports to get used. \n",
      "\u001b[1;31mView Jupyter <a href='command:jupyter.viewOutput'>log</a> for further details."
     ]
    }
   ],
   "source": [
    "\n",
    "import os\n",
    "\n",
    "def combine_csv_by_filename(file_list, output_file=\"C:/Users/liush/Downloads/data/combined_teval.csv\"):\n",
    "    \"\"\"Combines multiple CSV files into a single CSV, adding a column with the filenames.\"\"\"\n",
    "    \n",
    "    combined_df = pd.DataFrame()  # Create an empty DataFrame to hold the combined data\n",
    "    \n",
    "    for file in file_list:\n",
    "        try:\n",
    "            df = pd.read_csv(file)  # Read CSV\n",
    "            # Add a column with the filename\n",
    "            df['source_file'] = os.path.basename(file)\n",
    "            \n",
    "            # Append to the combined DataFrame\n",
    "            combined_df = pd.concat([combined_df, df], ignore_index=True)\n",
    "            \n",
    "            print(f\"Successfully added data from {file}\")\n",
    "        \n",
    "        except Exception as e:\n",
    "            print(f\"Error processing {file}: {e}\")\n",
    "    combined_df = combined_df.drop_duplicates()\n",
    "    # Save the combined file\n",
    "    combined_df.to_csv(output_file, index=False)\n",
    "    print(f\"Combined CSV saved as: {output_file}\")\n",
    "\n",
    "\n",
    "csv_files = [\"C:/Users/liush/Downloads/data/teval2013.csv\",\"C:/Users/liush/Downloads/data/teval2014.csv\",\"C:/Users/liush/Downloads/data/teval2015_district.csv\"]  # List of CSV file paths\n",
    "combine_csv_by_filename(csv_files)\n"
   ]
  },
  {
   "cell_type": "code",
   "execution_count": null,
   "id": "eab86966",
   "metadata": {},
   "outputs": [
    {
     "ename": "",
     "evalue": "",
     "output_type": "error",
     "traceback": [
      "\u001b[1;31mFailed to start the Kernel. \n",
      "\u001b[1;31mUnable to start Kernel 'base (Python 3.12.7)' due to a timeout waiting for the ports to get used. \n",
      "\u001b[1;31mView Jupyter <a href='command:jupyter.viewOutput'>log</a> for further details."
     ]
    }
   ],
   "source": [
    "\n",
    "def combine_csv_by_filename(file_list, output_file=\"C:/Users/liush/Downloads/data/combined_tdemo.csv\"):\n",
    "    \"\"\"Combines multiple CSV files into a single CSV, adding a column with the filenames.\"\"\"\n",
    "    \n",
    "    combined_df = pd.DataFrame()  # Create an empty DataFrame to hold the combined data\n",
    "    \n",
    "    for file in file_list:\n",
    "        try:\n",
    "            df = pd.read_csv(file)  # Read CSV\n",
    "            # Add a column with the filename\n",
    "            df['source_file'] = os.path.basename(file)\n",
    "            \n",
    "            # Append to the combined DataFrame\n",
    "            combined_df = pd.concat([combined_df, df], ignore_index=True)\n",
    "            \n",
    "            print(f\"Successfully added data from {file}\")\n",
    "        \n",
    "        except Exception as e:\n",
    "            print(f\"Error processing {file}: {e}\")\n",
    "            \n",
    "    combined_df = combined_df.drop_duplicates()\n",
    "    # Save the combined file\n",
    "    combined_df.to_csv(output_file, index=False)\n",
    "    print(f\"Combined CSV saved as: {output_file}\")\n",
    "\n",
    "\n",
    "csv_files = [\"C:/Users/liush/Downloads/data/tdemo2013_reth.csv\",\"C:/Users/liush/Downloads/data/tdemo2014_female.csv\",\"C:/Users/liush/Downloads/data/tdemo2015.csv\"]  # List of CSV file paths\n",
    "combine_csv_by_filename(csv_files)"
   ]
  },
  {
   "cell_type": "code",
   "execution_count": null,
   "id": "673cdb3a",
   "metadata": {},
   "outputs": [
    {
     "ename": "",
     "evalue": "",
     "output_type": "error",
     "traceback": [
      "\u001b[1;31mFailed to start the Kernel. \n",
      "\u001b[1;31mUnable to start Kernel 'base (Python 3.12.7)' due to a timeout waiting for the ports to get used. \n",
      "\u001b[1;31mView Jupyter <a href='command:jupyter.viewOutput'>log</a> for further details."
     ]
    }
   ],
   "source": [
    "def merge_csv_by_keys(file1, file2, output_file, merge_columns):\n",
    "    \"\"\"Merges two CSV files on specified columns and saves the result.\"\"\"\n",
    "    \n",
    "    # Read both CSV files\n",
    "    df1 = pd.read_csv(file1)\n",
    "    df2 = pd.read_csv(file2)\n",
    "    \n",
    "    # Merge the two DataFrames on the specified columns (inner join)\n",
    "    merged_df = pd.merge(df1, df2, on=merge_columns, how=\"outer\")\n",
    "    merged_df = merged_df.drop_duplicates()\n",
    "    # Save the merged DataFrame to a new CSV file\n",
    "    merged_df.to_csv(output_file, index=False)\n",
    "    \n",
    "    print(f\"Merged CSV saved as {output_file}\")\n",
    "\n",
    "\n",
    "merge_csv_by_keys(\n",
    "    \"C:/Users/liush/Downloads/data/combined_tdemo.csv\", \"C:/Users/liush/Downloads/data/combined_teval.csv\", \"C:/Users/liush/Downloads/data/all.csv\", \n",
    "    [\"id\", \"year\", \"districtname\"]\n",
    ")\n"
   ]
  },
  {
   "cell_type": "code",
   "execution_count": null,
   "id": "62077301",
   "metadata": {},
   "outputs": [],
   "source": []
  },
  {
   "cell_type": "code",
   "execution_count": null,
   "id": "1a62f7d4",
   "metadata": {},
   "outputs": [],
   "source": []
  }
 ],
 "metadata": {
  "kernelspec": {
   "display_name": "base",
   "language": "python",
   "name": "python3"
  },
  "language_info": {
   "codemirror_mode": {
    "name": "ipython",
    "version": 3
   },
   "file_extension": ".py",
   "mimetype": "text/x-python",
   "name": "python",
   "nbconvert_exporter": "python",
   "pygments_lexer": "ipython3",
   "version": "3.12.7"
  }
 },
 "nbformat": 4,
 "nbformat_minor": 5
}
